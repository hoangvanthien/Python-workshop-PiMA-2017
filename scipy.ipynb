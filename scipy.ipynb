{
 "cells": [
  {
   "cell_type": "code",
   "execution_count": null,
   "metadata": {
    "collapsed": true
   },
   "outputs": [],
   "source": [
    "%matplotlib inline\n",
    "import matplotlib.pyplot as plt\n",
    "import numpy as np"
   ]
  },
  {
   "cell_type": "markdown",
   "metadata": {},
   "source": [
    "### Tìm nghiệm của phương trình vi phân bậc nhất"
   ]
  },
  {
   "cell_type": "code",
   "execution_count": null,
   "metadata": {
    "collapsed": true
   },
   "outputs": [],
   "source": [
    "from scipy.integrate import odeint"
   ]
  },
  {
   "cell_type": "markdown",
   "metadata": {},
   "source": [
    "Phương trình (hoặc hệ các phương trình) vi phân cần phải được đưa về dạng:\n",
    "\n",
    "$$y' = f(y, x)$$\n",
    "\n",
    "Trong đó $y$ là một hàm theo biến $x$ (tức là $y=g(x)$), hoặc một vector các hàm theo biến $x$ (tức là $y=[g_1(x), g_2(x),\\dots g_n(x)]$).\n",
    "\n",
    "Còn $f$ chỉ một cách \"biến đổi\" $y$ thành $y'$, sử dụng biến $x$ hoặc một vài tham số, hằng số khác (dấu ba chấm).\n",
    "\n",
    "Để giải phương trình, chúng ta cần những tham số sau:\n",
    "- Điều kiện ban đầu: Một giá trị $y_0 = g(x = x_0)$.\n",
    "- Một vector các giá trị $x$.\n",
    "- Hàm $f$.\n",
    "\n",
    "Thư viện dùng để giải PTVP là `odeint` hoặc `ode`. Thư viện `odeint` thích hợp để bắt đầu làm quen hơn trong khi `ode` cung cấp chức năng tương tự nhưng phải thao tác nhiều với các đối tượng."
   ]
  },
  {
   "cell_type": "markdown",
   "metadata": {},
   "source": [
    "Ví dụ, tìm hàm $y=g(x)$ biết $y'=\\frac{2}{y}$ với $y(1)=2,\\ x\\geq0,\\ y\\geq0$. Hãy vận dụng kiến thức đã học để giải."
   ]
  },
  {
   "cell_type": "markdown",
   "metadata": {},
   "source": [
    "_Trả lời:_ $y = \\dots$"
   ]
  },
  {
   "cell_type": "code",
   "execution_count": null,
   "metadata": {
    "collapsed": true
   },
   "outputs": [],
   "source": [
    "y_0 = 2\n",
    "x = np.linspace(1, 10, 50)\n",
    "def f(y, x):\n",
    "    return 2/y"
   ]
  },
  {
   "cell_type": "markdown",
   "metadata": {},
   "source": [
    "`args` trong câu lệnh sau là tuple các tham số cần thiết khác được truyền vào hàm $f$. Do phương trình này không có tham số khác nên `args=()`."
   ]
  },
  {
   "cell_type": "code",
   "execution_count": null,
   "metadata": {
    "collapsed": true
   },
   "outputs": [],
   "source": [
    "y = odeint(f, y_0, x, args=())"
   ]
  },
  {
   "cell_type": "markdown",
   "metadata": {},
   "source": [
    "_Yêu cầu:_ Vẽ đồ thị plot $y=f(x)$ màu đỏ, đánh nhãn trục hoành là $x$, trục tung là $y$."
   ]
  },
  {
   "cell_type": "code",
   "execution_count": null,
   "metadata": {
    "collapsed": true
   },
   "outputs": [],
   "source": [
    "# Code"
   ]
  },
  {
   "cell_type": "markdown",
   "metadata": {},
   "source": [
    "Các phương trình bậc cao hơn có thể được quy về hệ phương trình bậc nhất để giải."
   ]
  },
  {
   "cell_type": "markdown",
   "metadata": {},
   "source": [
    "_Câu hỏi:_ Tại sao với các thông số `f, y_0, x`, hàm `odeint` có thể đưa ra các giá trị `y` tương ứng với `x` để plot lên figure?"
   ]
  },
  {
   "cell_type": "markdown",
   "metadata": {},
   "source": [
    "_Câu hỏi:_ Tìm kiếm các thông tin trên Wikipedia và vẽ đồ thị thể hiện tọa độ của một vật dao động tắt dần theo thời gian. Trong đó vật bắt đầu ở biên, tần số góc là $2\\pi$, và hệ số tắt dần được tùy ý lựa chọn cho mỗi loại tắt dần (quá ngưỡng tắt dần, tắt dần tới hạn, dưới ngưỡng tắt dần)."
   ]
  },
  {
   "cell_type": "markdown",
   "metadata": {},
   "source": [
    "Phương trình: $\\dots$"
   ]
  },
  {
   "cell_type": "code",
   "execution_count": null,
   "metadata": {
    "collapsed": true
   },
   "outputs": [],
   "source": [
    "# Code"
   ]
  },
  {
   "cell_type": "markdown",
   "metadata": {},
   "source": [
    "### Hệ phương trình bậc nhất"
   ]
  },
  {
   "cell_type": "code",
   "execution_count": null,
   "metadata": {
    "collapsed": true
   },
   "outputs": [],
   "source": [
    "from scipy.linalg import solve"
   ]
  },
  {
   "cell_type": "markdown",
   "metadata": {},
   "source": [
    "Hàm `solve(A, B)` có thể dùng để tìm nghiệm ma trận $x$ của phương trình $A\\times x=B$."
   ]
  },
  {
   "cell_type": "markdown",
   "metadata": {},
   "source": [
    "\\begin{array}{lcl} x+3y & = & 5 \\\\ 2x+y & = & 7 \\end{array}"
   ]
  },
  {
   "cell_type": "markdown",
   "metadata": {},
   "source": [
    "Hãy khởi tạo ma trận A và B (kiểu dữ liệu `np.array`) sao cho:\n",
    "\n",
    "$A\\times\\begin{bmatrix}x\\\\y\\end{bmatrix}=B$"
   ]
  },
  {
   "cell_type": "code",
   "execution_count": null,
   "metadata": {
    "collapsed": true
   },
   "outputs": [],
   "source": [
    "# Code"
   ]
  },
  {
   "cell_type": "code",
   "execution_count": null,
   "metadata": {
    "collapsed": true
   },
   "outputs": [],
   "source": [
    "ans = solve(A, B)\n",
    "ans"
   ]
  },
  {
   "cell_type": "markdown",
   "metadata": {},
   "source": [
    "### Tìm cực tiểu của hàm số"
   ]
  },
  {
   "cell_type": "code",
   "execution_count": null,
   "metadata": {
    "collapsed": true
   },
   "outputs": [],
   "source": [
    "from scipy.optimize import fmin_bfgs"
   ]
  },
  {
   "cell_type": "markdown",
   "metadata": {},
   "source": [
    "_Yêu cầu:_ Tạo hàm $f(x) = x^3 + 3x^2 + 3x + 1$. Vẽ đồ thị hàm số này, giới hạn hình trong khoảng $[-5; 5]$ trên trục hoành."
   ]
  },
  {
   "cell_type": "code",
   "execution_count": null,
   "metadata": {
    "collapsed": true
   },
   "outputs": [],
   "source": [
    "# Code"
   ]
  },
  {
   "cell_type": "code",
   "execution_count": null,
   "metadata": {
    "collapsed": true
   },
   "outputs": [],
   "source": [
    "# Code"
   ]
  },
  {
   "cell_type": "markdown",
   "metadata": {},
   "source": [
    "_Câu hỏi:_ Dự đoán cực tiểu có thể rơi vào điểm nào?"
   ]
  },
  {
   "cell_type": "code",
   "execution_count": null,
   "metadata": {
    "collapsed": true
   },
   "outputs": [],
   "source": [
    "# prediction_x ="
   ]
  },
  {
   "cell_type": "code",
   "execution_count": null,
   "metadata": {
    "collapsed": true
   },
   "outputs": [],
   "source": [
    "x_min = fmin_bfgs(f, 0)\n",
    "x_min"
   ]
  },
  {
   "cell_type": "markdown",
   "metadata": {},
   "source": [
    "### Nội suy"
   ]
  },
  {
   "cell_type": "code",
   "execution_count": null,
   "metadata": {
    "collapsed": true
   },
   "outputs": [],
   "source": [
    "from scipy.interpolate import *"
   ]
  },
  {
   "cell_type": "code",
   "execution_count": null,
   "metadata": {
    "collapsed": true
   },
   "outputs": [],
   "source": [
    "def f(x):\n",
    "    return np.sin(x)"
   ]
  },
  {
   "cell_type": "code",
   "execution_count": null,
   "metadata": {
    "collapsed": true
   },
   "outputs": [],
   "source": [
    "x_integer = np.arange(-5, 6)  \n",
    "x = np.linspace(-5, 5, 50)\n",
    "\n",
    "y_noise = f(x_integer) + (0.1*np.random.randn(len(x_integer))) # simulate measurement with noise\n",
    "y_reality = f(x)\n",
    "y_linear_ip = interp1d(x_integer, y_noise)(x)\n",
    "y_cubic_ip = interp1d(x_integer, y_noise, kind='cubic')(x)"
   ]
  },
  {
   "cell_type": "markdown",
   "metadata": {},
   "source": [
    "_Yêu cầu:_ Hãy plot 4 mảng `y` trên cùng một hình để xem sự khác biệt"
   ]
  },
  {
   "cell_type": "code",
   "execution_count": null,
   "metadata": {
    "collapsed": true
   },
   "outputs": [],
   "source": [
    "fig, ax = plt.subplots(figsize=(10,5))\n",
    "ax.plot(x_integer, y_noise, 'bs')\n",
    "# Continue coding..."
   ]
  },
  {
   "cell_type": "markdown",
   "metadata": {},
   "source": [
    "### Quy hoạch tuyến tính"
   ]
  },
  {
   "cell_type": "code",
   "execution_count": null,
   "metadata": {
    "collapsed": true
   },
   "outputs": [],
   "source": [
    "from scipy.optimize import linprog"
   ]
  },
  {
   "cell_type": "markdown",
   "metadata": {},
   "source": [
    "Trong bài toán tối ưu hóa (kiểu minimize) một hàm $F(x)=c^T\\times x$ cần một hoặc các dữ liệu: \n",
    "- $A\\times x \\leq B$\n",
    "- $C\\times x = D$\n",
    "- $x_{lb} \\leq x \\leq x_{ub}$"
   ]
  },
  {
   "cell_type": "markdown",
   "metadata": {},
   "source": [
    "Dẫn lại ví dụ 1.1 trong tài liệu \"Tối ưu hóa\" của Phạm Nguyễn Mạnh:\n",
    "\n",
    "Tìm giá trị lớn nhất của $F(x,y,z) = 2x+3y+4z$ biết rằng:\n",
    "\\begin{array}{ccc}\n",
    "x,y,z & \\geq & 0\\\\\n",
    "3x+2y+z & \\leq & 10\\\\\n",
    "2x+5y+3z & \\leq & 15\n",
    "\\end{array}"
   ]
  },
  {
   "cell_type": "markdown",
   "metadata": {},
   "source": [
    "Ngoại trừ điều kiện của biến, hai dòng cuối có thể được chuyển thành phép tính hai ma trận như sau:\n",
    "\n",
    "\\begin{array}{ccc}\n",
    "x,y,z & \\geq & 0\\\\\n",
    "\\begin{bmatrix}3 & 2 & 1\\\\ 2 & 5 & 3\\end{bmatrix} \\times \\begin{bmatrix}x\\\\ y\\\\ z\\end{bmatrix} & \\leq & \\begin{bmatrix}10\\\\ 15\\end{bmatrix}\n",
    "\\end{array}"
   ]
  },
  {
   "cell_type": "code",
   "execution_count": null,
   "metadata": {},
   "outputs": [],
   "source": [
    "c = [-2, -3, -4]\n",
    "A = [[3, 2, 1], [2, 5, 3]]\n",
    "B = [10, 15]\n",
    "x_lb = [(0, None), (0, None), (0, None)]\n",
    "res = linprog(c, A, B, bounds=x_lb)\n",
    "res"
   ]
  },
  {
   "cell_type": "markdown",
   "metadata": {},
   "source": [
    "Như vậy $-2x-3y-4z \\geq -20$ hay $F \\leq 20$"
   ]
  }
 ],
 "metadata": {
  "kernelspec": {
   "display_name": "Python 3",
   "language": "python",
   "name": "python3"
  },
  "language_info": {
   "codemirror_mode": {
    "name": "ipython",
    "version": 3
   },
   "file_extension": ".py",
   "mimetype": "text/x-python",
   "name": "python",
   "nbconvert_exporter": "python",
   "pygments_lexer": "ipython3",
   "version": "3.6.0"
  }
 },
 "nbformat": 4,
 "nbformat_minor": 2
}
